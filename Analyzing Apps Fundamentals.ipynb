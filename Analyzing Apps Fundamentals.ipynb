{
 "cells": [
  {
   "cell_type": "markdown",
   "metadata": {},
   "source": [
    "# App Data\n",
    "Our aim is to help developers understand which type of apps are likely to attract more users on Google Play and the App Store."
   ]
  },
  {
   "cell_type": "markdown",
   "metadata": {},
   "source": [
    "## Opening & Exploring Data\n",
    "First we are going to open the 2 datasets"
   ]
  },
  {
   "cell_type": "code",
   "execution_count": 34,
   "metadata": {
    "collapsed": false
   },
   "outputs": [],
   "source": [
    "from csv import reader\n",
    "\n",
    "opened_appstore = open('AppleStore.csv')\n",
    "read_appstore = reader(opened_appstore)\n",
    "list_appstore = list(read_appstore)\n",
    "appstore_header = list_appstore[0]\n",
    "appstore = list_appstore[1:]\n",
    "\n",
    "opened_google = open('googleplaystore.csv')\n",
    "read_google = reader(opened_google)\n",
    "list_google = list(read_google)\n",
    "google_header = list_google[0]\n",
    "google = list_google[1:]"
   ]
  },
  {
   "cell_type": "markdown",
   "metadata": {},
   "source": [
    "Created function to more easily explore certain sections of the datasets "
   ]
  },
  {
   "cell_type": "code",
   "execution_count": 35,
   "metadata": {
    "collapsed": true
   },
   "outputs": [],
   "source": [
    "def explore_data(dataset, start, end, rows_and_columns=False):\n",
    "    dataset_slice = dataset[start:end]    \n",
    "    for row in dataset_slice:\n",
    "        print(row)\n",
    "        print('\\n') # adds a new (empty) line after each row\n",
    "\n",
    "    if rows_and_columns:\n",
    "        print('Number of rows:', len(dataset))\n",
    "        print('Number of columns:', len(dataset[0]))"
   ]
  },
  {
   "cell_type": "code",
   "execution_count": 36,
   "metadata": {
    "collapsed": false
   },
   "outputs": [
    {
     "name": "stdout",
     "output_type": "stream",
     "text": [
      "['id', 'track_name', 'size_bytes', 'currency', 'price', 'rating_count_tot', 'rating_count_ver', 'user_rating', 'user_rating_ver', 'ver', 'cont_rating', 'prime_genre', 'sup_devices.num', 'ipadSc_urls.num', 'lang.num', 'vpp_lic']\n",
      "\n",
      "\n",
      "Number of rows: 7198\n",
      "Number of columns: 16\n",
      "\n",
      "\n",
      "['App', 'Category', 'Rating', 'Reviews', 'Size', 'Installs', 'Type', 'Price', 'Content Rating', 'Genres', 'Last Updated', 'Current Ver', 'Android Ver']\n",
      "\n",
      "\n",
      "Number of rows: 10842\n",
      "Number of columns: 13\n"
     ]
    }
   ],
   "source": [
    "explore_data(list_appstore,0,1,True)\n",
    "print('\\n')\n",
    "explore_data(list_google,0,1,True)"
   ]
  },
  {
   "cell_type": "markdown",
   "metadata": {},
   "source": [
    "The apple store has 16 columns and 7197 apps\n",
    "\n",
    "The google play store has 13 columns and 10841 apps"
   ]
  },
  {
   "cell_type": "markdown",
   "metadata": {},
   "source": [
    "## Deleting Wrong Data\n",
    "The Google Play dataset has a discussion section online, through reading on here we can see there is an error with row 10472"
   ]
  },
  {
   "cell_type": "code",
   "execution_count": 37,
   "metadata": {
    "collapsed": false
   },
   "outputs": [
    {
     "name": "stdout",
     "output_type": "stream",
     "text": [
      "['Life Made WI-Fi Touchscreen Photo Frame', '1.9', '19', '3.0M', '1,000+', 'Free', '0', 'Everyone', '', 'February 11, 2018', '1.0.19', '4.0 and up']\n",
      "\n",
      "\n",
      "['App', 'Category', 'Rating', 'Reviews', 'Size', 'Installs', 'Type', 'Price', 'Content Rating', 'Genres', 'Last Updated', 'Current Ver', 'Android Ver']\n",
      "\n",
      "\n",
      "['Photo Editor & Candy Camera & Grid & ScrapBook', 'ART_AND_DESIGN', '4.1', '159', '19M', '10,000+', 'Free', '0', 'Everyone', 'Art & Design', 'January 7, 2018', '1.0.0', '4.0.3 and up']\n"
     ]
    }
   ],
   "source": [
    "print(google[10472]) \n",
    "print('\\n')\n",
    "print(google_header)  \n",
    "print('\\n')\n",
    "print(google[0]) "
   ]
  },
  {
   "cell_type": "markdown",
   "metadata": {},
   "source": [
    "The positions for the columns in 'Life Made WI-Fi Touchscreen Photo Frame' are off so we will delete this row"
   ]
  },
  {
   "cell_type": "code",
   "execution_count": 38,
   "metadata": {
    "collapsed": false
   },
   "outputs": [
    {
     "name": "stdout",
     "output_type": "stream",
     "text": [
      "10841\n",
      "10840\n"
     ]
    }
   ],
   "source": [
    "print(len(google))\n",
    "del google[10472]\n",
    "print(len(google))"
   ]
  },
  {
   "cell_type": "markdown",
   "metadata": {},
   "source": [
    "## Removing Duplicate Entries\n",
    "Some apps have multiple entries, here we will remove them and keep the most recent entry"
   ]
  },
  {
   "cell_type": "code",
   "execution_count": 39,
   "metadata": {
    "collapsed": false
   },
   "outputs": [
    {
     "name": "stdout",
     "output_type": "stream",
     "text": [
      "['Instagram', 'SOCIAL', '4.5', '66577313', 'Varies with device', '1,000,000,000+', 'Free', '0', 'Teen', 'Social', 'July 31, 2018', 'Varies with device', 'Varies with device']\n",
      "['Instagram', 'SOCIAL', '4.5', '66577446', 'Varies with device', '1,000,000,000+', 'Free', '0', 'Teen', 'Social', 'July 31, 2018', 'Varies with device', 'Varies with device']\n",
      "['Instagram', 'SOCIAL', '4.5', '66577313', 'Varies with device', '1,000,000,000+', 'Free', '0', 'Teen', 'Social', 'July 31, 2018', 'Varies with device', 'Varies with device']\n",
      "['Instagram', 'SOCIAL', '4.5', '66509917', 'Varies with device', '1,000,000,000+', 'Free', '0', 'Teen', 'Social', 'July 31, 2018', 'Varies with device', 'Varies with device']\n"
     ]
    }
   ],
   "source": [
    "for app in google:\n",
    "    name = app[0]\n",
    "    if name == \"Instagram\":\n",
    "        print(app)"
   ]
  },
  {
   "cell_type": "markdown",
   "metadata": {},
   "source": [
    "Above we show an example, the Instagram app shows up 4 times."
   ]
  },
  {
   "cell_type": "code",
   "execution_count": 40,
   "metadata": {
    "collapsed": false
   },
   "outputs": [
    {
     "name": "stdout",
     "output_type": "stream",
     "text": [
      "1181\n"
     ]
    }
   ],
   "source": [
    "unique_apps = []\n",
    "duplicate_apps = []\n",
    "\n",
    "for app in google:\n",
    "    name = app[0]\n",
    "    if name in unique_apps:\n",
    "        duplicate_apps.append(name)\n",
    "    else:\n",
    "        unique_apps.append(name)\n",
    "        \n",
    "print(len(duplicate_apps))"
   ]
  },
  {
   "cell_type": "markdown",
   "metadata": {},
   "source": [
    "Here we show that there are 1181 duplicate apps.\n",
    "\n",
    "If you look at the 4 entries for Instagram, the only difference is in the 4th column which represents the number of reviews. The more reviews should mean the more recent the entry, so we will keep the most recent entry by keeping the one with the highest review count. We will do this by deleting the duplicates for each app that don't have the highest review count. "
   ]
  },
  {
   "cell_type": "code",
   "execution_count": 41,
   "metadata": {
    "collapsed": false
   },
   "outputs": [
    {
     "name": "stdout",
     "output_type": "stream",
     "text": [
      "Expected Length: 9659\n",
      "Actual Length: 9659\n"
     ]
    }
   ],
   "source": [
    "reviews_max = {}\n",
    "\n",
    "for app in google:\n",
    "    name = app[0]\n",
    "    n_reviews = float(app[3])\n",
    "    if name in reviews_max and reviews_max[name] < n_reviews:\n",
    "        reviews_max[name] = n_reviews\n",
    "    elif name not in reviews_max:\n",
    "        reviews_max[name] = n_reviews\n",
    "        \n",
    "print(\"Expected Length:\",len(google)-1181)\n",
    "print(\"Actual Length:\",len(reviews_max))\n",
    "        "
   ]
  },
  {
   "cell_type": "markdown",
   "metadata": {},
   "source": [
    "This shows that our new dictionary length of app names and number of reviews matches the expected length."
   ]
  },
  {
   "cell_type": "code",
   "execution_count": 42,
   "metadata": {
    "collapsed": true
   },
   "outputs": [],
   "source": [
    "google_clean = []\n",
    "already_added = []\n",
    "\n",
    "for app in google:\n",
    "    name = app[0]\n",
    "    n_reviews = float(app[3])\n",
    "    if (n_reviews == reviews_max[name]) and (name not in already_added):\n",
    "        google_clean.append(app)\n",
    "        already_added.append(name)"
   ]
  },
  {
   "cell_type": "markdown",
   "metadata": {},
   "source": [
    "If the number of reviews matches the max number of reviews for that corresponding app, then it is added to the google_clean list. The already_added list is to account for any apps that have multiple entries with the same number of reviews."
   ]
  },
  {
   "cell_type": "code",
   "execution_count": 43,
   "metadata": {
    "collapsed": false
   },
   "outputs": [
    {
     "name": "stdout",
     "output_type": "stream",
     "text": [
      "['Photo Editor & Candy Camera & Grid & ScrapBook', 'ART_AND_DESIGN', '4.1', '159', '19M', '10,000+', 'Free', '0', 'Everyone', 'Art & Design', 'January 7, 2018', '1.0.0', '4.0.3 and up']\n",
      "\n",
      "\n",
      "['U Launcher Lite – FREE Live Cool Themes, Hide Apps', 'ART_AND_DESIGN', '4.7', '87510', '8.7M', '5,000,000+', 'Free', '0', 'Everyone', 'Art & Design', 'August 1, 2018', '1.2.4', '4.0.3 and up']\n",
      "\n",
      "\n",
      "['Sketch - Draw & Paint', 'ART_AND_DESIGN', '4.5', '215644', '25M', '50,000,000+', 'Free', '0', 'Teen', 'Art & Design', 'June 8, 2018', 'Varies with device', '4.2 and up']\n",
      "\n",
      "\n",
      "['Pixel Draw - Number Art Coloring Book', 'ART_AND_DESIGN', '4.3', '967', '2.8M', '100,000+', 'Free', '0', 'Everyone', 'Art & Design;Creativity', 'June 20, 2018', '1.1', '4.4 and up']\n",
      "\n",
      "\n",
      "Number of rows: 9659\n",
      "Number of columns: 13\n"
     ]
    }
   ],
   "source": [
    "explore_data(google_clean,0,4,True)"
   ]
  },
  {
   "cell_type": "markdown",
   "metadata": {},
   "source": [
    "This shows that in our new google_clean list we have the expected number of rows/apps."
   ]
  },
  {
   "cell_type": "markdown",
   "metadata": {
    "collapsed": true
   },
   "source": [
    "# Removing Non-English Apps"
   ]
  },
  {
   "cell_type": "markdown",
   "metadata": {},
   "source": [
    "All characters have a corresponding number to them, in the ASCII system english text character numbers range from 0 to 127. We will check the names of the apps and remove the ones that are not within this range."
   ]
  },
  {
   "cell_type": "markdown",
   "metadata": {},
   "source": [
    "Below we will write a function that determines whether a string contains all english characters or not."
   ]
  },
  {
   "cell_type": "code",
   "execution_count": 44,
   "metadata": {
    "collapsed": false
   },
   "outputs": [
    {
     "name": "stdout",
     "output_type": "stream",
     "text": [
      "True\n",
      "False\n",
      "False\n",
      "False\n"
     ]
    }
   ],
   "source": [
    "def is_english(string):\n",
    "    for character in string:\n",
    "        if ord(character) > 127:\n",
    "            return False\n",
    "    return True\n",
    "\n",
    "print(is_english('Instagram'))\n",
    "print(is_english('爱奇艺PPS -《欢乐颂2》电视剧热播'))\n",
    "print(is_english('Docs To Go™ Free Office Suite'))\n",
    "print(is_english('Instachat 😜'))"
   ]
  },
  {
   "cell_type": "markdown",
   "metadata": {},
   "source": [
    "Clearly there are some cicumstances where an english app has characters that are above the 127 ASCII range. To minimize the impact of data loss, we'll only remove an app if its name has more than three characters with corresponding numbers falling outside the ASCII range. This means all English apps with up to three emoji or other special characters will still be labeled as English. Our filter function is still not perfect, but it should be fairly effective."
   ]
  },
  {
   "cell_type": "code",
   "execution_count": 45,
   "metadata": {
    "collapsed": false
   },
   "outputs": [
    {
     "name": "stdout",
     "output_type": "stream",
     "text": [
      "True\n",
      "False\n",
      "True\n",
      "True\n"
     ]
    }
   ],
   "source": [
    "def is_english(string):\n",
    "    non_english = 0\n",
    "    \n",
    "    for character in string:\n",
    "        if ord(character) > 127:\n",
    "            non_english += 1\n",
    "            \n",
    "    if non_english > 3:\n",
    "        return False\n",
    "    \n",
    "    return True\n",
    "\n",
    "print(is_english('Instagram'))\n",
    "print(is_english('爱奇艺PPS -《欢乐颂2》电视剧热播'))\n",
    "print(is_english('Docs To Go™ Free Office Suite'))\n",
    "print(is_english('Instachat 😜'))"
   ]
  },
  {
   "cell_type": "markdown",
   "metadata": {},
   "source": [
    "This function seems to be sufficient although not perfect, below we will filter out the non-english apps using this function."
   ]
  },
  {
   "cell_type": "code",
   "execution_count": 46,
   "metadata": {
    "collapsed": false
   },
   "outputs": [
    {
     "name": "stdout",
     "output_type": "stream",
     "text": [
      "['Photo Editor & Candy Camera & Grid & ScrapBook', 'ART_AND_DESIGN', '4.1', '159', '19M', '10,000+', 'Free', '0', 'Everyone', 'Art & Design', 'January 7, 2018', '1.0.0', '4.0.3 and up']\n",
      "\n",
      "\n",
      "['U Launcher Lite – FREE Live Cool Themes, Hide Apps', 'ART_AND_DESIGN', '4.7', '87510', '8.7M', '5,000,000+', 'Free', '0', 'Everyone', 'Art & Design', 'August 1, 2018', '1.2.4', '4.0.3 and up']\n",
      "\n",
      "\n",
      "['Sketch - Draw & Paint', 'ART_AND_DESIGN', '4.5', '215644', '25M', '50,000,000+', 'Free', '0', 'Teen', 'Art & Design', 'June 8, 2018', 'Varies with device', '4.2 and up']\n",
      "\n",
      "\n",
      "Number of rows: 9614\n",
      "Number of columns: 13\n",
      "\n",
      "\n",
      "['284882215', 'Facebook', '389879808', 'USD', '0.0', '2974676', '212', '3.5', '3.5', '95.0', '4+', 'Social Networking', '37', '1', '29', '1']\n",
      "\n",
      "\n",
      "['389801252', 'Instagram', '113954816', 'USD', '0.0', '2161558', '1289', '4.5', '4.0', '10.23', '12+', 'Photo & Video', '37', '0', '29', '1']\n",
      "\n",
      "\n",
      "['529479190', 'Clash of Clans', '116476928', 'USD', '0.0', '2130805', '579', '4.5', '4.5', '9.24.12', '9+', 'Games', '38', '5', '18', '1']\n",
      "\n",
      "\n",
      "Number of rows: 6183\n",
      "Number of columns: 16\n"
     ]
    }
   ],
   "source": [
    "english_google = []\n",
    "english_appstore = []\n",
    "\n",
    "for app in google_clean:\n",
    "    if is_english(app[0]):\n",
    "        english_google.append(app)\n",
    "        \n",
    "for app in appstore:\n",
    "    if is_english(app[1]):\n",
    "        english_appstore.append(app)\n",
    "        \n",
    "explore_data(english_google,0,3,True)\n",
    "print('\\n')\n",
    "explore_data(english_appstore,0,3,True)"
   ]
  },
  {
   "cell_type": "markdown",
   "metadata": {},
   "source": [
    "We are left with 9614 apps from Google Play and 6183 apps from The Appstore"
   ]
  },
  {
   "cell_type": "markdown",
   "metadata": {
    "collapsed": true
   },
   "source": [
    "# Isolating Free Apps"
   ]
  },
  {
   "cell_type": "code",
   "execution_count": 47,
   "metadata": {
    "collapsed": false
   },
   "outputs": [
    {
     "name": "stdout",
     "output_type": "stream",
     "text": [
      "3222\n",
      "8864\n"
     ]
    }
   ],
   "source": [
    "free_appstore = []\n",
    "free_google = []\n",
    "\n",
    "for app in english_appstore:\n",
    "    if app[4] == '0.0':\n",
    "        free_appstore.append(app)\n",
    "        \n",
    "for app in english_google:\n",
    "    if app[7] == '0':\n",
    "        free_google.append(app)\n",
    "        \n",
    "print(len(free_appstore))\n",
    "print(len(free_google))"
   ]
  },
  {
   "cell_type": "markdown",
   "metadata": {},
   "source": [
    "After isolating for free apps, we are left with 3222 apps in the Appstore and 8864 apps in the Google Play store."
   ]
  },
  {
   "cell_type": "markdown",
   "metadata": {},
   "source": [
    "# Most Common Apps by Genre"
   ]
  },
  {
   "cell_type": "markdown",
   "metadata": {},
   "source": [
    "Our aim is to determine the kinds of apps that are likely to attract more users because our revenue is highly influenced by the number of people using our apps.\n",
    "\n",
    "To minimize risks and overhead, our validation strategy for an app idea is comprised of three steps:\n",
    "\n",
    "1. Build a minimal Android version of the app, and add it to Google Play.\n",
    "2. If the app has a good response from users, we develop it further.\n",
    "3. If the app is profitable after six months, we build an iOS version of the app and add it to the App Store.\n",
    "\n",
    "Because our end goal is to add the app on both Google Play and the App Store, we need to find app profiles that are successful on both markets. For instance, a profile that works well for both markets might be a productivity app that makes use of gamification."
   ]
  },
  {
   "cell_type": "markdown",
   "metadata": {},
   "source": [
    "We'll build a frequency table for the prime_genre column of the App Store data set, and the Genres and Category columns of the Google Play data set. This will help us figure out the most common genres. "
   ]
  },
  {
   "cell_type": "markdown",
   "metadata": {},
   "source": [
    "Below we'll build two functions we can use to analyze the frequency tables:\n",
    "\n",
    "1. One function to generate frequency tables that show percentages\n",
    "2. Another function that we can use to display the percentages in a descending order"
   ]
  },
  {
   "cell_type": "code",
   "execution_count": 48,
   "metadata": {
    "collapsed": true
   },
   "outputs": [],
   "source": [
    "def freq_table(dataset,index):\n",
    "    freq = {}\n",
    "    total = 0\n",
    "    for row in dataset:\n",
    "        total += 1\n",
    "        value = row[index]\n",
    "        if value in freq:\n",
    "            freq[value] += 1\n",
    "        else:\n",
    "            freq[value] = 1\n",
    "            \n",
    "    percentages = {}\n",
    "    for number in freq:\n",
    "        percent = (freq[number] / total) * 100\n",
    "        percentages[number] = percent\n",
    "    \n",
    "    return percentages\n",
    "\n",
    "def display_table(dataset, index):\n",
    "    table = freq_table(dataset, index)\n",
    "    table_display = []\n",
    "    for key in table:\n",
    "        key_val_as_tuple = (table[key], key)\n",
    "        table_display.append(key_val_as_tuple)\n",
    "\n",
    "    table_sorted = sorted(table_display, reverse = True)\n",
    "    for entry in table_sorted:\n",
    "        print(entry[1], ':', entry[0])"
   ]
  },
  {
   "cell_type": "code",
   "execution_count": 49,
   "metadata": {
    "collapsed": false,
    "scrolled": true
   },
   "outputs": [
    {
     "name": "stdout",
     "output_type": "stream",
     "text": [
      "Games : 58.16263190564867\n",
      "Entertainment : 7.883302296710118\n",
      "Photo & Video : 4.9658597144630665\n",
      "Education : 3.662321539416512\n",
      "Social Networking : 3.2898820608317814\n",
      "Shopping : 2.60707635009311\n",
      "Utilities : 2.5139664804469275\n",
      "Sports : 2.1415270018621975\n",
      "Music : 2.0484171322160147\n",
      "Health & Fitness : 2.0173805090006205\n",
      "Productivity : 1.7380509000620732\n",
      "Lifestyle : 1.5828677839851024\n",
      "News : 1.3345747982619491\n",
      "Travel : 1.2414649286157666\n",
      "Finance : 1.1173184357541899\n",
      "Weather : 0.8690254500310366\n",
      "Food & Drink : 0.8069522036002483\n",
      "Reference : 0.5586592178770949\n",
      "Business : 0.5276225946617008\n",
      "Book : 0.4345127250155183\n",
      "Navigation : 0.186219739292365\n",
      "Medical : 0.186219739292365\n",
      "Catalogs : 0.12414649286157665\n"
     ]
    }
   ],
   "source": [
    "display_table(free_appstore,-5)"
   ]
  },
  {
   "cell_type": "code",
   "execution_count": 50,
   "metadata": {
    "collapsed": false
   },
   "outputs": [
    {
     "name": "stdout",
     "output_type": "stream",
     "text": [
      "FAMILY : 18.907942238267147\n",
      "GAME : 9.724729241877256\n",
      "TOOLS : 8.461191335740072\n",
      "BUSINESS : 4.591606498194946\n",
      "LIFESTYLE : 3.9034296028880866\n",
      "PRODUCTIVITY : 3.892148014440433\n",
      "FINANCE : 3.7003610108303246\n",
      "MEDICAL : 3.531137184115524\n",
      "SPORTS : 3.395758122743682\n",
      "PERSONALIZATION : 3.3167870036101084\n",
      "COMMUNICATION : 3.2378158844765346\n",
      "HEALTH_AND_FITNESS : 3.0798736462093865\n",
      "PHOTOGRAPHY : 2.944494584837545\n",
      "NEWS_AND_MAGAZINES : 2.7978339350180503\n",
      "SOCIAL : 2.6624548736462095\n",
      "TRAVEL_AND_LOCAL : 2.33528880866426\n",
      "SHOPPING : 2.2450361010830324\n",
      "BOOKS_AND_REFERENCE : 2.1435018050541514\n",
      "DATING : 1.861462093862816\n",
      "VIDEO_PLAYERS : 1.7937725631768955\n",
      "MAPS_AND_NAVIGATION : 1.3989169675090252\n",
      "FOOD_AND_DRINK : 1.2409747292418771\n",
      "EDUCATION : 1.1620036101083033\n",
      "ENTERTAINMENT : 0.9589350180505415\n",
      "LIBRARIES_AND_DEMO : 0.9363718411552346\n",
      "AUTO_AND_VEHICLES : 0.9250902527075812\n",
      "HOUSE_AND_HOME : 0.8235559566787004\n",
      "WEATHER : 0.8009927797833934\n",
      "EVENTS : 0.7107400722021661\n",
      "PARENTING : 0.6543321299638989\n",
      "ART_AND_DESIGN : 0.6430505415162455\n",
      "COMICS : 0.6204873646209386\n",
      "BEAUTY : 0.5979241877256317\n"
     ]
    }
   ],
   "source": [
    "display_table(free_google,1)"
   ]
  },
  {
   "cell_type": "code",
   "execution_count": 51,
   "metadata": {
    "collapsed": false,
    "scrolled": false
   },
   "outputs": [
    {
     "name": "stdout",
     "output_type": "stream",
     "text": [
      "Tools : 8.449909747292418\n",
      "Entertainment : 6.069494584837545\n",
      "Education : 5.347472924187725\n",
      "Business : 4.591606498194946\n",
      "Productivity : 3.892148014440433\n",
      "Lifestyle : 3.892148014440433\n",
      "Finance : 3.7003610108303246\n",
      "Medical : 3.531137184115524\n",
      "Sports : 3.463447653429603\n",
      "Personalization : 3.3167870036101084\n",
      "Communication : 3.2378158844765346\n",
      "Action : 3.1024368231046933\n",
      "Health & Fitness : 3.0798736462093865\n",
      "Photography : 2.944494584837545\n",
      "News & Magazines : 2.7978339350180503\n",
      "Social : 2.6624548736462095\n",
      "Travel & Local : 2.3240072202166067\n",
      "Shopping : 2.2450361010830324\n",
      "Books & Reference : 2.1435018050541514\n",
      "Simulation : 2.0419675090252705\n",
      "Dating : 1.861462093862816\n",
      "Arcade : 1.8501805054151623\n",
      "Video Players & Editors : 1.7712093862815883\n",
      "Casual : 1.7599277978339352\n",
      "Maps & Navigation : 1.3989169675090252\n",
      "Food & Drink : 1.2409747292418771\n",
      "Puzzle : 1.128158844765343\n",
      "Racing : 0.9927797833935018\n",
      "Role Playing : 0.9363718411552346\n",
      "Libraries & Demo : 0.9363718411552346\n",
      "Auto & Vehicles : 0.9250902527075812\n",
      "Strategy : 0.9138086642599278\n",
      "House & Home : 0.8235559566787004\n",
      "Weather : 0.8009927797833934\n",
      "Events : 0.7107400722021661\n",
      "Adventure : 0.6768953068592057\n",
      "Comics : 0.6092057761732852\n",
      "Beauty : 0.5979241877256317\n",
      "Art & Design : 0.5979241877256317\n",
      "Parenting : 0.4963898916967509\n",
      "Card : 0.45126353790613716\n",
      "Casino : 0.42870036101083037\n",
      "Trivia : 0.41741877256317694\n",
      "Educational;Education : 0.39485559566787\n",
      "Board : 0.3835740072202166\n",
      "Educational : 0.3722924187725632\n",
      "Education;Education : 0.33844765342960287\n",
      "Word : 0.2594765342960289\n",
      "Casual;Pretend Play : 0.236913357400722\n",
      "Music : 0.2030685920577617\n",
      "Racing;Action & Adventure : 0.16922382671480143\n",
      "Puzzle;Brain Games : 0.16922382671480143\n",
      "Entertainment;Music & Video : 0.16922382671480143\n",
      "Casual;Brain Games : 0.13537906137184114\n",
      "Casual;Action & Adventure : 0.13537906137184114\n",
      "Arcade;Action & Adventure : 0.12409747292418773\n",
      "Action;Action & Adventure : 0.10153429602888085\n",
      "Educational;Pretend Play : 0.09025270758122744\n",
      "Simulation;Action & Adventure : 0.078971119133574\n",
      "Parenting;Education : 0.078971119133574\n",
      "Entertainment;Brain Games : 0.078971119133574\n",
      "Board;Brain Games : 0.078971119133574\n",
      "Parenting;Music & Video : 0.06768953068592057\n",
      "Educational;Brain Games : 0.06768953068592057\n",
      "Casual;Creativity : 0.06768953068592057\n",
      "Art & Design;Creativity : 0.06768953068592057\n",
      "Education;Pretend Play : 0.056407942238267145\n",
      "Role Playing;Pretend Play : 0.04512635379061372\n",
      "Education;Creativity : 0.04512635379061372\n",
      "Role Playing;Action & Adventure : 0.033844765342960284\n",
      "Puzzle;Action & Adventure : 0.033844765342960284\n",
      "Entertainment;Creativity : 0.033844765342960284\n",
      "Entertainment;Action & Adventure : 0.033844765342960284\n",
      "Educational;Creativity : 0.033844765342960284\n",
      "Educational;Action & Adventure : 0.033844765342960284\n",
      "Education;Music & Video : 0.033844765342960284\n",
      "Education;Brain Games : 0.033844765342960284\n",
      "Education;Action & Adventure : 0.033844765342960284\n",
      "Adventure;Action & Adventure : 0.033844765342960284\n",
      "Video Players & Editors;Music & Video : 0.02256317689530686\n",
      "Sports;Action & Adventure : 0.02256317689530686\n",
      "Simulation;Pretend Play : 0.02256317689530686\n",
      "Puzzle;Creativity : 0.02256317689530686\n",
      "Music;Music & Video : 0.02256317689530686\n",
      "Entertainment;Pretend Play : 0.02256317689530686\n",
      "Casual;Education : 0.02256317689530686\n",
      "Board;Action & Adventure : 0.02256317689530686\n",
      "Video Players & Editors;Creativity : 0.01128158844765343\n",
      "Trivia;Education : 0.01128158844765343\n",
      "Travel & Local;Action & Adventure : 0.01128158844765343\n",
      "Tools;Education : 0.01128158844765343\n",
      "Strategy;Education : 0.01128158844765343\n",
      "Strategy;Creativity : 0.01128158844765343\n",
      "Strategy;Action & Adventure : 0.01128158844765343\n",
      "Simulation;Education : 0.01128158844765343\n",
      "Role Playing;Brain Games : 0.01128158844765343\n",
      "Racing;Pretend Play : 0.01128158844765343\n",
      "Puzzle;Education : 0.01128158844765343\n",
      "Parenting;Brain Games : 0.01128158844765343\n",
      "Music & Audio;Music & Video : 0.01128158844765343\n",
      "Lifestyle;Pretend Play : 0.01128158844765343\n",
      "Lifestyle;Education : 0.01128158844765343\n",
      "Health & Fitness;Education : 0.01128158844765343\n",
      "Health & Fitness;Action & Adventure : 0.01128158844765343\n",
      "Entertainment;Education : 0.01128158844765343\n",
      "Communication;Creativity : 0.01128158844765343\n",
      "Comics;Creativity : 0.01128158844765343\n",
      "Casual;Music & Video : 0.01128158844765343\n",
      "Card;Action & Adventure : 0.01128158844765343\n",
      "Books & Reference;Education : 0.01128158844765343\n",
      "Art & Design;Pretend Play : 0.01128158844765343\n",
      "Art & Design;Action & Adventure : 0.01128158844765343\n",
      "Arcade;Pretend Play : 0.01128158844765343\n",
      "Adventure;Education : 0.01128158844765343\n"
     ]
    }
   ],
   "source": [
    "display_table(free_google,-4)"
   ]
  },
  {
   "cell_type": "markdown",
   "metadata": {},
   "source": [
    "From the google play dataset we will only use the Categories column moving forward, the genres column is too granular."
   ]
  },
  {
   "cell_type": "markdown",
   "metadata": {},
   "source": [
    "For The App Store the most common Genre is Games, with runner up Entertainment. For Google Play the most common is Family with the runner up being Games. It seems The App Store is more for entertainment purposes and Google Play is a bit more practical focused. "
   ]
  },
  {
   "cell_type": "markdown",
   "metadata": {},
   "source": [
    "# Most Popular Apps by Genre on the App Store"
   ]
  },
  {
   "cell_type": "markdown",
   "metadata": {},
   "source": [
    "We'll take the total number of user ratings, since there is no column showing number of installs for the App Store.\n",
    "\n",
    "Below, we calculate the average number of user ratings per app genre on the App Store:"
   ]
  },
  {
   "cell_type": "code",
   "execution_count": 52,
   "metadata": {
    "collapsed": false
   },
   "outputs": [
    {
     "name": "stdout",
     "output_type": "stream",
     "text": [
      "Navigation : 86090.33333333333\n",
      "Reference : 74942.11111111111\n",
      "Social Networking : 71548.34905660378\n",
      "Music : 57326.530303030304\n",
      "Weather : 52279.892857142855\n",
      "Book : 39758.5\n",
      "Food & Drink : 33333.92307692308\n",
      "Finance : 31467.944444444445\n",
      "Photo & Video : 28441.54375\n",
      "Travel : 28243.8\n",
      "Shopping : 26919.690476190477\n",
      "Health & Fitness : 23298.015384615384\n",
      "Sports : 23008.898550724636\n",
      "Games : 22788.6696905016\n",
      "News : 21248.023255813954\n",
      "Productivity : 21028.410714285714\n",
      "Utilities : 18684.456790123455\n",
      "Lifestyle : 16485.764705882353\n",
      "Entertainment : 14029.830708661417\n",
      "Business : 7491.117647058823\n",
      "Education : 7003.983050847458\n",
      "Catalogs : 4004.0\n",
      "Medical : 612.0\n"
     ]
    }
   ],
   "source": [
    "prime_genre_freq = freq_table(free_appstore,-5)\n",
    "table_display = []\n",
    "\n",
    "for genre in prime_genre_freq:\n",
    "    total = 0   #to store number of ratings per genre\n",
    "    len_genre = 0   #to store number of apps in each genre\n",
    "   \n",
    "    for app in free_appstore:\n",
    "        genre_app = app[-5]\n",
    "        if genre_app == genre:\n",
    "            n_ratings = float(app[5])\n",
    "            total += n_ratings\n",
    "            len_genre += 1\n",
    "    avg_n_ratings = total/len_genre\n",
    "    \n",
    "    key_val_as_tuple = (avg_n_ratings, genre)\n",
    "    table_display.append(key_val_as_tuple)\n",
    "        \n",
    "table_sorted = sorted(table_display, reverse = True)\n",
    "for entry in table_sorted:\n",
    "    print(entry[1], ':', entry[0])"
   ]
  },
  {
   "cell_type": "markdown",
   "metadata": {},
   "source": [
    "Below we will print out the apps from the top 5 categories along with their number of ratings."
   ]
  },
  {
   "cell_type": "code",
   "execution_count": 53,
   "metadata": {
    "collapsed": false
   },
   "outputs": [
    {
     "name": "stdout",
     "output_type": "stream",
     "text": [
      "Navigation : Waze - GPS Navigation, Maps & Real-time Traffic : 345046\n",
      "Navigation : Google Maps - Navigation & Transit : 154911\n",
      "Navigation : Geocaching® : 12811\n",
      "Navigation : CoPilot GPS – Car Navigation & Offline Maps : 3582\n",
      "Navigation : ImmobilienScout24: Real Estate Search in Germany : 187\n",
      "Navigation : Railway Route Search : 5\n",
      "\n",
      "\n",
      "Reference : Bible : 985920\n",
      "Reference : Dictionary.com Dictionary & Thesaurus : 200047\n",
      "Reference : Dictionary.com Dictionary & Thesaurus for iPad : 54175\n",
      "Reference : Google Translate : 26786\n",
      "Reference : Muslim Pro: Ramadan 2017 Prayer Times, Azan, Quran : 18418\n",
      "Reference : New Furniture Mods - Pocket Wiki & Game Tools for Minecraft PC Edition : 17588\n",
      "Reference : Merriam-Webster Dictionary : 16849\n",
      "Reference : Night Sky : 12122\n",
      "Reference : City Maps for Minecraft PE - The Best Maps for Minecraft Pocket Edition (MCPE) : 8535\n",
      "Reference : LUCKY BLOCK MOD ™ for Minecraft PC Edition - The Best Pocket Wiki & Mods Installer Tools : 4693\n",
      "Reference : GUNS MODS for Minecraft PC Edition - Mods Tools : 1497\n",
      "Reference : Guides for Pokémon GO - Pokemon GO News and Cheats : 826\n",
      "Reference : WWDC : 762\n",
      "Reference : Horror Maps for Minecraft PE - Download The Scariest Maps for Minecraft Pocket Edition (MCPE) Free : 718\n",
      "Reference : VPN Express : 14\n",
      "Reference : Real Bike Traffic Rider Virtual Reality Glasses : 8\n",
      "Reference : 教えて!goo : 0\n",
      "Reference : Jishokun-Japanese English Dictionary & Translator : 0\n",
      "\n",
      "\n",
      "Social Networking : Facebook : 2974676\n",
      "Social Networking : Pinterest : 1061624\n",
      "Social Networking : Skype for iPhone : 373519\n",
      "Social Networking : Messenger : 351466\n",
      "Social Networking : Tumblr : 334293\n",
      "Social Networking : WhatsApp Messenger : 287589\n",
      "Social Networking : Kik : 260965\n",
      "Social Networking : ooVoo – Free Video Call, Text and Voice : 177501\n",
      "Social Networking : TextNow - Unlimited Text + Calls : 164963\n",
      "Social Networking : Viber Messenger – Text & Call : 164249\n",
      "Social Networking : Followers - Social Analytics For Instagram : 112778\n",
      "Social Networking : MeetMe - Chat and Meet New People : 97072\n",
      "Social Networking : We Heart It - Fashion, wallpapers, quotes, tattoos : 90414\n",
      "Social Networking : InsTrack for Instagram - Analytics Plus More : 85535\n",
      "Social Networking : Tango - Free Video Call, Voice and Chat : 75412\n",
      "Social Networking : LinkedIn : 71856\n",
      "Social Networking : Match™ - #1 Dating App. : 60659\n",
      "Social Networking : Skype for iPad : 60163\n",
      "Social Networking : POF - Best Dating App for Conversations : 52642\n",
      "Social Networking : Timehop : 49510\n",
      "Social Networking : Find My Family, Friends & iPhone - Life360 Locator : 43877\n",
      "Social Networking : Whisper - Share, Express, Meet : 39819\n",
      "Social Networking : Hangouts : 36404\n",
      "Social Networking : LINE PLAY - Your Avatar World : 34677\n",
      "Social Networking : WeChat : 34584\n",
      "Social Networking : Badoo - Meet New People, Chat, Socialize. : 34428\n",
      "Social Networking : Followers + for Instagram - Follower Analytics : 28633\n",
      "Social Networking : GroupMe : 28260\n",
      "Social Networking : Marco Polo Video Walkie Talkie : 27662\n",
      "Social Networking : Miitomo : 23965\n",
      "Social Networking : SimSimi : 23530\n",
      "Social Networking : Grindr - Gay and same sex guys chat, meet and date : 23201\n",
      "Social Networking : Wishbone - Compare Anything : 20649\n",
      "Social Networking : imo video calls and chat : 18841\n",
      "Social Networking : After School - Funny Anonymous School News : 18482\n",
      "Social Networking : Quick Reposter - Repost, Regram and Reshare Photos : 17694\n",
      "Social Networking : Weibo HD : 16772\n",
      "Social Networking : Repost for Instagram : 15185\n",
      "Social Networking : Live.me – Live Video Chat & Make Friends Nearby : 14724\n",
      "Social Networking : Nextdoor : 14402\n",
      "Social Networking : Followers Analytics for Instagram - InstaReport : 13914\n",
      "Social Networking : YouNow: Live Stream Video Chat : 12079\n",
      "Social Networking : FollowMeter for Instagram - Followers Tracking : 11976\n",
      "Social Networking : LINE : 11437\n",
      "Social Networking : eHarmony™ Dating App - Meet Singles : 11124\n",
      "Social Networking : Discord - Chat for Gamers : 9152\n",
      "Social Networking : QQ : 9109\n",
      "Social Networking : Telegram Messenger : 7573\n",
      "Social Networking : Weibo : 7265\n",
      "Social Networking : Periscope - Live Video Streaming Around the World : 6062\n",
      "Social Networking : Chat for Whatsapp - iPad Version : 5060\n",
      "Social Networking : QQ HD : 5058\n",
      "Social Networking : Followers Analysis Tool For Instagram App Free : 4253\n",
      "Social Networking : live.ly - live video streaming : 4145\n",
      "Social Networking : Houseparty - Group Video Chat : 3991\n",
      "Social Networking : SOMA Messenger : 3232\n",
      "Social Networking : Monkey : 3060\n",
      "Social Networking : Down To Lunch : 2535\n",
      "Social Networking : Flinch - Video Chat Staring Contest : 2134\n",
      "Social Networking : Highrise - Your Avatar Community : 2011\n",
      "Social Networking : LOVOO - Dating Chat : 1985\n",
      "Social Networking : PlayStation®Messages : 1918\n",
      "Social Networking : BOO! - Video chat camera with filters & stickers : 1805\n",
      "Social Networking : Qzone : 1649\n",
      "Social Networking : Chatous - Chat with new people : 1609\n",
      "Social Networking : Kiwi - Q&A : 1538\n",
      "Social Networking : GhostCodes - a discovery app for Snapchat : 1313\n",
      "Social Networking : Jodel : 1193\n",
      "Social Networking : FireChat : 1037\n",
      "Social Networking : Google Duo - simple video calling : 1033\n",
      "Social Networking : Fiesta by Tango - Chat & Meet New People : 885\n",
      "Social Networking : Google Allo — smart messaging : 862\n",
      "Social Networking : Peach — share vividly : 727\n",
      "Social Networking : Hey! VINA - Where Women Meet New Friends : 719\n",
      "Social Networking : Battlefield™ Companion : 689\n",
      "Social Networking : All Devices for WhatsApp - Messenger for iPad : 682\n",
      "Social Networking : Chat for Pokemon Go - GoChat : 500\n",
      "Social Networking : IAmNaughty – Dating App to Meet New People Online : 463\n",
      "Social Networking : Qzone HD : 458\n",
      "Social Networking : Zenly - Locate your friends in realtime : 427\n",
      "Social Networking : League of Legends Friends : 420\n",
      "Social Networking : 豆瓣 : 407\n",
      "Social Networking : Candid - Speak Your Mind Freely : 398\n",
      "Social Networking : 知乎 : 397\n",
      "Social Networking : Selfeo : 366\n",
      "Social Networking : Fake-A-Location Free ™ : 354\n",
      "Social Networking : Popcorn Buzz - Free Group Calls : 281\n",
      "Social Networking : Fam — Group video calling for iMessage : 279\n",
      "Social Networking : QQ International : 274\n",
      "Social Networking : Ameba : 269\n",
      "Social Networking : SoundCloud Pulse: for creators : 240\n",
      "Social Networking : Tantan : 235\n",
      "Social Networking : Cougar Dating & Life Style App for Mature Women : 213\n",
      "Social Networking : Rawr Messenger - Dab your chat : 180\n",
      "Social Networking : WhenToPost: Best Time to Post Photos for Instagram : 158\n",
      "Social Networking : Inke—Broadcast an amazing life : 147\n",
      "Social Networking : Mustknow - anonymous video Q&A : 53\n",
      "Social Networking : CTFxCmoji : 39\n",
      "Social Networking : Lobi : 36\n",
      "Social Networking : Chain: Collaborate On MyVideo Story/Group Video : 35\n",
      "Social Networking : botman - Real time video chat : 7\n",
      "Social Networking : BestieBox : 0\n",
      "Social Networking : MATCH ON LINE chat : 0\n",
      "Social Networking : niconico ch : 0\n",
      "Social Networking : LINE BLOG : 0\n",
      "Social Networking : bit-tube - Live Stream Video Chat : 0\n",
      "\n",
      "\n",
      "Music : Pandora - Music & Radio : 1126879\n",
      "Music : Spotify Music : 878563\n",
      "Music : Shazam - Discover music, artists, videos & lyrics : 402925\n",
      "Music : iHeartRadio – Free Music & Radio Stations : 293228\n",
      "Music : SoundCloud - Music & Audio : 135744\n",
      "Music : Magic Piano by Smule : 131695\n",
      "Music : Smule Sing! : 119316\n",
      "Music : TuneIn Radio - MLB NBA Audiobooks Podcasts Music : 110420\n",
      "Music : Amazon Music : 106235\n",
      "Music : SoundHound Song Search & Music Player : 82602\n",
      "Music : Sonos Controller : 48905\n",
      "Music : Bandsintown Concerts : 30845\n",
      "Music : Karaoke - Sing Karaoke, Unlimited Songs! : 28606\n",
      "Music : My Mixtapez Music : 26286\n",
      "Music : Sing Karaoke Songs Unlimited with StarMaker : 26227\n",
      "Music : Ringtones for iPhone & Ringtone Maker : 25403\n",
      "Music : Musi - Unlimited Music For YouTube : 25193\n",
      "Music : AutoRap by Smule : 18202\n",
      "Music : Spinrilla - Mixtapes For Free : 15053\n",
      "Music : Napster - Top Music & Radio : 14268\n",
      "Music : edjing Mix:DJ turntable to remix and scratch music : 13580\n",
      "Music : Free Music - MP3 Streamer & Playlist Manager Pro : 13443\n",
      "Music : Free Piano app by Yokee : 13016\n",
      "Music : Google Play Music : 10118\n",
      "Music : Certified Mixtapes - Hip Hop Albums & Mixtapes : 9975\n",
      "Music : TIDAL : 7398\n",
      "Music : YouTube Music : 7109\n",
      "Music : Nicki Minaj: The Empire : 5196\n",
      "Music : Sounds app - Music And Friends : 5126\n",
      "Music : SongFlip - Free Music Streamer : 5004\n",
      "Music : Simple Radio - Live AM & FM Radio Stations : 4787\n",
      "Music : Deezer - Listen to your Favorite Music & Playlists : 4677\n",
      "Music : Ringtones for iPhone with Ringtone Maker : 4013\n",
      "Music : Bose SoundTouch : 3687\n",
      "Music : Amazon Alexa : 3018\n",
      "Music : DatPiff : 2815\n",
      "Music : Trebel Music - Unlimited Music Downloader : 2570\n",
      "Music : Free Music Play - Mp3 Streamer & Player : 2496\n",
      "Music : Acapella from PicPlayPost : 2487\n",
      "Music : Coach Guitar - Lessons & Easy Tabs For Beginners : 2416\n",
      "Music : Musicloud - MP3 and FLAC Music Player for Cloud Platforms. : 2211\n",
      "Music : Piano - Play Keyboard Music Games with Magic Tiles : 1636\n",
      "Music : Boom: Best Equalizer & Magical Surround Sound : 1375\n",
      "Music : Music Freedom - Unlimited Free MP3 Music Streaming : 1246\n",
      "Music : AmpMe - A Portable Social Party Music Speaker : 1047\n",
      "Music : Medly - Music Maker : 933\n",
      "Music : Bose Connect : 915\n",
      "Music : Music Memos : 909\n",
      "Music : UE BOOM : 612\n",
      "Music : LiveMixtapes : 555\n",
      "Music : NOISE : 355\n",
      "Music : MP3 Music Player & Streamer for Clouds : 329\n",
      "Music : Musical Video Maker - Create Music clips lip sync : 320\n",
      "Music : Cloud Music Player - Downloader & Playlist Manager : 319\n",
      "Music : Remixlive - Remix loops with pads : 288\n",
      "Music : QQ音乐HD : 224\n",
      "Music : Blocs Wave - Make & Record Music : 158\n",
      "Music : PlayGround • Music At Your Fingertips : 150\n",
      "Music : Music and Chill : 135\n",
      "Music : The Singing Machine Mobile Karaoke App : 130\n",
      "Music : radio.de - Der Radioplayer : 64\n",
      "Music : Free Music -  Player & Streamer  for Dropbox, OneDrive & Google Drive : 46\n",
      "Music : NRJ Radio : 38\n",
      "Music : Smart Music: Streaming Videos and Radio : 17\n",
      "Music : BOSS Tuner : 13\n",
      "Music : PetitLyrics : 0\n",
      "\n",
      "\n",
      "Weather : The Weather Channel: Forecast, Radar & Alerts : 495626\n",
      "Weather : The Weather Channel App for iPad – best local forecast, radar map, and storm tracking : 208648\n",
      "Weather : WeatherBug - Local Weather, Radar, Maps, Alerts : 188583\n",
      "Weather : MyRadar NOAA Weather Radar Forecast : 150158\n",
      "Weather : AccuWeather - Weather for Life : 144214\n",
      "Weather : Yahoo Weather : 112603\n",
      "Weather : Weather Underground: Custom Forecast & Local Radar : 49192\n",
      "Weather : NOAA Weather Radar - Weather Forecast & HD Radar : 45696\n",
      "Weather : Weather Live Free - Weather Forecast & Alerts : 35702\n",
      "Weather : Storm Radar : 22792\n",
      "Weather : QuakeFeed Earthquake Map, Alerts, and News : 6081\n",
      "Weather : Moji Weather - Free Weather Forecast : 2333\n",
      "Weather : Hurricane by American Red Cross : 1158\n",
      "Weather : Forecast Bar : 375\n",
      "Weather : Hurricane Tracker WESH 2 Orlando, Central Florida : 203\n",
      "Weather : FEMA : 128\n",
      "Weather : iWeather - World weather forecast : 80\n",
      "Weather : Weather - Radar - Storm with Morecast App : 78\n",
      "Weather : Yurekuru Call : 53\n",
      "Weather : Weather & Radar : 37\n",
      "Weather : WRAL Weather Alert : 25\n",
      "Weather : Météo-France : 24\n",
      "Weather : JaxReady : 22\n",
      "Weather : Freddy the Frogcaster's Weather Station : 14\n",
      "Weather : Almanac Long-Range Weather Forecast : 12\n",
      "Weather : TodayAir : 0\n",
      "Weather : wetter.com : 0\n",
      "Weather : WarnWetter : 0\n"
     ]
    }
   ],
   "source": [
    "for app in free_appstore:\n",
    "    if app[-5] == 'Navigation':\n",
    "        print(app[-5], ':', app[1], ':', app[5])\n",
    "\n",
    "print('\\n')\n",
    "for app in free_appstore:\n",
    "    if app[-5] == 'Reference':\n",
    "        print(app[-5], ':', app[1], ':', app[5])\n",
    "\n",
    "print('\\n')\n",
    "for app in free_appstore:\n",
    "    if app[-5] == 'Social Networking':\n",
    "        print(app[-5], ':', app[1], ':', app[5])\n",
    "\n",
    "print('\\n')\n",
    "for app in free_appstore:\n",
    "    if app[-5] == 'Music':\n",
    "        print(app[-5], ':', app[1], ':', app[5])\n",
    "\n",
    "print('\\n')\n",
    "for app in free_appstore:\n",
    "    if app[-5] == 'Weather':\n",
    "        print(app[-5], ':', app[1], ':', app[5])"
   ]
  },
  {
   "cell_type": "markdown",
   "metadata": {},
   "source": [
    "It looks as if in the really popular categories there are a few \"app giants\" such as facebook, or spotify that have such an extremely large following they throw off the average. These popular cateories may not be optimal for new apps entering their market."
   ]
  },
  {
   "cell_type": "code",
   "execution_count": 54,
   "metadata": {
    "collapsed": false
   },
   "outputs": [
    {
     "name": "stdout",
     "output_type": "stream",
     "text": [
      "Health & Fitness : Calorie Counter & Diet Tracker by MyFitnessPal : 507706\n",
      "Health & Fitness : Lose It! – Weight Loss Program and Calorie Counter : 373835\n",
      "Health & Fitness : Weight Watchers : 136833\n",
      "Health & Fitness : Sleep Cycle alarm clock : 104539\n",
      "Health & Fitness : Fitbit : 90496\n",
      "Health & Fitness : Period Tracker Lite : 53620\n",
      "Health & Fitness : Nike+ Training Club - Workouts & Fitness Plans : 33969\n",
      "Health & Fitness : Plant Nanny - Water Reminder with Cute Plants : 27421\n",
      "Health & Fitness : Sworkit - Custom Workouts for Exercise & Fitness : 16819\n",
      "Health & Fitness : Clue Period Tracker: Period & Ovulation Tracker : 13436\n",
      "Health & Fitness : Headspace : 12819\n",
      "Health & Fitness : Fooducate - Lose Weight, Eat Healthy,Get Motivated : 11875\n",
      "Health & Fitness : Runtastic Running, Jogging and Walking Tracker : 10298\n",
      "Health & Fitness : WebMD for iPad : 9142\n",
      "Health & Fitness : 8fit - Workouts, meal plans and personal trainer : 8730\n",
      "Health & Fitness : Garmin Connect™ Mobile : 8341\n",
      "Health & Fitness : Record by Under Armour, connects with UA HealthBox : 7754\n",
      "Health & Fitness : Fitstar Personal Trainer : 7496\n",
      "Health & Fitness : My Cycles Period and Ovulation Tracker : 7469\n",
      "Health & Fitness : Seven - 7 Minute Workout Training Challenge : 6808\n",
      "Health & Fitness : RUNNING for weight loss: workout & meal plans : 6407\n",
      "Health & Fitness : Lifesum – Inspiring healthy lifestyle app : 5795\n",
      "Health & Fitness : Waterlogged - Daily Hydration Tracker : 5000\n",
      "Health & Fitness : J&J Official 7 Minute Workout : 4861\n",
      "Health & Fitness : Fitbod Workout Log: Strength Lifting Bodybuilding : 4668\n",
      "Health & Fitness : Runtastic Six Pack Abs Workout & Core Trainer : 4283\n",
      "Health & Fitness : Sweat: Kayla Itsines' Bikini Body Fitness Workouts : 3788\n",
      "Health & Fitness : Smart Alarm Clock : sleep cycle & snoring recorder : 3779\n",
      "Health & Fitness : My Challenge Tracker : 3682\n",
      "Health & Fitness : Charity Miles: Walking & Running Distance Tracker : 3115\n",
      "Health & Fitness : Ab & Core Sworkit - Free Workout Trainer : 2901\n",
      "Health & Fitness : Simple Habit : 2494\n",
      "Health & Fitness : Asana Rebel - Yoga Inspired Fitness : 2459\n",
      "Health & Fitness : Life Cycle - Track Your Time Automatically : 1760\n",
      "Health & Fitness : Freeletics Bodyweight - Workouts and Training : 1722\n",
      "Health & Fitness : Runtastic Results: Workout & Bodyweight Training : 1718\n",
      "Health & Fitness : My Water Balance: Daily Drink Tracker & Reminder : 1601\n",
      "Health & Fitness : Butt Sworkit - Free Workout Trainer to tone & lift : 960\n",
      "Health & Fitness : My Score Plus Weight Loss, Food & Exercise Tracker : 467\n",
      "Health & Fitness : Sleep Meister - Sleep Cycle Alarm Lite : 445\n",
      "Health & Fitness : Walk for a Dog : 412\n",
      "Health & Fitness : Quick Fit - 7 Minute Workout, Abs, and Yoga : 407\n",
      "Health & Fitness : Fit Girls Guide : 397\n",
      "Health & Fitness : Walking for Weight Loss: training plans, GPS, tips : 397\n",
      "Health & Fitness : Zen : 298\n",
      "Health & Fitness : Model My Diet - Women - Weight Loss Motivation : 236\n",
      "Health & Fitness : Runtastic Butt Workout & Booty Trainer Plans : 222\n",
      "Health & Fitness : Dot - A Period & Fertility Tracker : 142\n",
      "Health & Fitness : YAZIO – Calorie Counter & Nutrition Tracker : 115\n",
      "Health & Fitness : SmartFit - Wristband : 105\n",
      "Health & Fitness : Dr. Oz : 99\n",
      "Health & Fitness : Crane Connect : 94\n",
      "Health & Fitness : Morning Routine : Daily Habit Tracker : 40\n",
      "Health & Fitness : Wellbeyond Meditation for Kids : 36\n",
      "Health & Fitness : SenseSleep - Train Your Brain To Sleep Better : 22\n",
      "Health & Fitness : Snail Sleep-Dream Talk Recording : 19\n",
      "Health & Fitness : ameli, l'Assurance Maladie : 8\n",
      "Health & Fitness : VIBO RealMassager : 6\n",
      "Health & Fitness : FizzUp – Online Fitness Trainer : 5\n",
      "Health & Fitness : 2Face Fitpack - Dein Trainingsprogramm mit persönlichem Ernährungsplan, Kalorienrechner und Trainingsplan : 0\n",
      "Health & Fitness : GYMONDO – Fitness Training für Zuhause : 0\n",
      "Health & Fitness : Superdrug : 0\n",
      "Health & Fitness : airweave sleep analysis : 0\n",
      "Health & Fitness : Sonia Tlev : 0\n",
      "Health & Fitness : Intuition Guidances : 0\n"
     ]
    }
   ],
   "source": [
    "for app in free_appstore:\n",
    "    if app[-5] == 'Health & Fitness':\n",
    "        print(app[-5], ':', app[1], ':', app[5])"
   ]
  },
  {
   "cell_type": "markdown",
   "metadata": {},
   "source": [
    "All the apps in Health & Fitness seem to be more around the average. Running, calorie tracking, and weight tracking apps seem to be quite popular, but these 3 factors seem to be seperated in different apps. Perhaps an app that entails all of these aspects would do quite well."
   ]
  },
  {
   "cell_type": "markdown",
   "metadata": {
    "collapsed": true
   },
   "source": [
    "# Most Popular Apps by Genre on Google Play"
   ]
  },
  {
   "cell_type": "code",
   "execution_count": 55,
   "metadata": {
    "collapsed": false
   },
   "outputs": [
    {
     "name": "stdout",
     "output_type": "stream",
     "text": [
      "1,000,000+ : 15.726534296028879\n",
      "100,000+ : 11.552346570397113\n",
      "10,000,000+ : 10.548285198555957\n",
      "10,000+ : 10.198555956678701\n",
      "1,000+ : 8.393501805054152\n",
      "100+ : 6.915613718411552\n",
      "5,000,000+ : 6.825361010830325\n",
      "500,000+ : 5.561823104693141\n",
      "50,000+ : 4.7721119133574\n",
      "5,000+ : 4.512635379061372\n",
      "10+ : 3.5424187725631766\n",
      "500+ : 3.2490974729241873\n",
      "50,000,000+ : 2.3014440433213\n",
      "100,000,000+ : 2.1322202166064983\n",
      "50+ : 1.917870036101083\n",
      "5+ : 0.78971119133574\n",
      "1+ : 0.5076714801444043\n",
      "500,000,000+ : 0.2707581227436823\n",
      "1,000,000,000+ : 0.22563176895306858\n",
      "0+ : 0.04512635379061372\n",
      "0 : 0.01128158844765343\n"
     ]
    }
   ],
   "source": [
    "display_table(free_google, 5) # the Installs columns"
   ]
  },
  {
   "cell_type": "markdown",
   "metadata": {},
   "source": [
    "We don't know whether an app with 100,000+ installs has 100,000 installs, 200,000, or 350,000. But we don't need very precise data for our purposes.\n",
    "\n",
    "We'll consider that an app with 100,000+ installs has 100,000 installs, and an app with 1,000,000+ installs has 1,000,000 installs, and so on.\n",
    "\n",
    "We'll need to convert each install number to float — this means that we need to remove the commas and the plus characters, otherwise the conversion will fail and raise an error."
   ]
  },
  {
   "cell_type": "code",
   "execution_count": 56,
   "metadata": {
    "collapsed": false,
    "scrolled": true
   },
   "outputs": [
    {
     "name": "stdout",
     "output_type": "stream",
     "text": [
      "COMMUNICATION : 38456119.167247385\n",
      "VIDEO_PLAYERS : 24727872.452830188\n",
      "SOCIAL : 23253652.127118643\n",
      "PHOTOGRAPHY : 17840110.40229885\n",
      "PRODUCTIVITY : 16787331.344927534\n",
      "GAME : 15588015.603248259\n",
      "TRAVEL_AND_LOCAL : 13984077.710144928\n",
      "ENTERTAINMENT : 11640705.88235294\n",
      "TOOLS : 10801391.298666667\n",
      "NEWS_AND_MAGAZINES : 9549178.467741935\n",
      "BOOKS_AND_REFERENCE : 8767811.894736841\n",
      "SHOPPING : 7036877.311557789\n",
      "PERSONALIZATION : 5201482.6122448975\n",
      "WEATHER : 5074486.197183099\n",
      "HEALTH_AND_FITNESS : 4188821.9853479853\n",
      "MAPS_AND_NAVIGATION : 4056941.7741935486\n",
      "FAMILY : 3695641.8198090694\n",
      "SPORTS : 3638640.1428571427\n",
      "ART_AND_DESIGN : 1986335.0877192982\n",
      "FOOD_AND_DRINK : 1924897.7363636363\n",
      "EDUCATION : 1833495.145631068\n",
      "BUSINESS : 1712290.1474201474\n",
      "LIFESTYLE : 1437816.2687861272\n",
      "FINANCE : 1387692.475609756\n",
      "HOUSE_AND_HOME : 1331540.5616438356\n",
      "DATING : 854028.8303030303\n",
      "COMICS : 817657.2727272727\n",
      "AUTO_AND_VEHICLES : 647317.8170731707\n",
      "LIBRARIES_AND_DEMO : 638503.734939759\n",
      "PARENTING : 542603.6206896552\n",
      "BEAUTY : 513151.88679245283\n",
      "EVENTS : 253542.22222222222\n",
      "MEDICAL : 120550.61980830671\n"
     ]
    }
   ],
   "source": [
    "category_freq = freq_table(free_google,1)\n",
    "table_display = []\n",
    "\n",
    "for category in category_freq:\n",
    "    total = 0   #to store number of ratings per genre\n",
    "    len_category = 0   #to store number of apps in each genre\n",
    "   \n",
    "    for app in free_google:\n",
    "        category_app = app[1]\n",
    "        if category_app == category:\n",
    "            n_installs = app[5]\n",
    "            n_installs = n_installs.replace(',', '')\n",
    "            n_installs = n_installs.replace('+', '')\n",
    "            total += float(n_installs)\n",
    "            len_category += 1\n",
    "            \n",
    "    avg_n_installs = total/len_category\n",
    "    \n",
    "    key_val_as_tuple = (avg_n_installs, category)\n",
    "    table_display.append(key_val_as_tuple)\n",
    "        \n",
    "table_sorted = sorted(table_display, reverse = True)\n",
    "for entry in table_sorted:\n",
    "    print(entry[1], ':', entry[0])"
   ]
  },
  {
   "cell_type": "markdown",
   "metadata": {},
   "source": [
    "The most popular categories probably have skewed averages due to extremely dominant apps, like the App Store.\n",
    "So we will look at a less popular category like Sports."
   ]
  },
  {
   "cell_type": "code",
   "execution_count": 58,
   "metadata": {
    "collapsed": false
   },
   "outputs": [
    {
     "name": "stdout",
     "output_type": "stream",
     "text": [
      "Free Sports TV : 100,000+\n",
      "LiveScore: Live Sport Updates : 10,000,000+\n",
      "Onefootball - Soccer Scores : 10,000,000+\n",
      "Cristiano Ronaldo Wallpaper : 500,000+\n",
      "Futbol24 : 1,000,000+\n",
      "kicker football news : 5,000,000+\n",
      "Football Live Scores : 5,000,000+\n",
      "Pro 2018 - Series A and B : 5,000,000+\n",
      "BeSoccer - Soccer Live Score : 10,000,000+\n",
      "Sport.pl LIVE : 1,000,000+\n",
      "The Team - Live Sport: football, tennis, rugby .. : 5,000,000+\n",
      "MARCA - Sports Leader Diary : 5,000,000+\n",
      "Sahadan Live Scores : 5,000,000+\n",
      "Foot Mercato: transfers, results, news, live : 1,000,000+\n",
      "All Football - Latest News & Videos : 10,000,000+\n",
      "Eurosport : 10,000,000+\n",
      "beIN SPORTS TR : 10,000,000+\n",
      "All Football GO- Live Score, Games : 100,000+\n",
      "Top Mercato: football news : 1,000,000+\n",
      "GollerCepte Live Score : 1,000,000+\n",
      "Championat : 1,000,000+\n",
      "Hovercraft Racer : 100,000+\n",
      "World Cup 2018 : 500,000+\n",
      "GollerCepte 1903 : 500,000+\n",
      "League18 : 500,000+\n",
      "Speed Boat Racing : 1,000,000+\n",
      "La Liga - Spanish Soccer League Official : 10,000,000+\n",
      "Lionel Messi Wallpapers : 100,000+\n",
      "Goal Live Scores : 5,000,000+\n",
      "NUsport : 100,000+\n",
      "U + professional baseball : 500,000+\n",
      "Mackolik Live Results : 10,000,000+\n",
      "Mercato foot by Maxifoot : 100,000+\n",
      "MUTV - Manchester United TV : 500,000+\n",
      "Hole19: Golf GPS App, Rangefinder & Scorecard : 100,000+\n",
      "WatchESPN : 10,000,000+\n",
      "CBS Sports Fantasy : 1,000,000+\n",
      "NBC Sports : 5,000,000+\n",
      "NBC Sports Gold : 100,000+\n",
      "UFC : 1,000,000+\n",
      "Telemundo Deportes - Live : 1,000,000+\n",
      "SwingAid - Level up Golf : 100,000+\n",
      "Golf Channel : 1,000,000+\n",
      "The Rules of Golf : 100,000+\n",
      "GolfNow: Tee Time Deals at Golf Courses, Golf GPS : 1,000,000+\n",
      "Golf GPS by SwingxSwing : 1,000,000+\n",
      "Zepp Golf Swing Analyzer : 100,000+\n",
      "Live Golf Scores - US & European Golf : 50,000+\n",
      "Golfshot: Golf GPS + Tee Times : 500,000+\n",
      "PGA TOUR LIVE : 100,000+\n",
      "Golf GPS Rangefinder: Golf Pad : 1,000,000+\n",
      "Mobitee GPS Golf Free : 100,000+\n",
      "GolfLogix GPS + Putt Breaks : 1,000,000+\n",
      "PGA TOUR : 1,000,000+\n",
      "FanDuel: Daily Fantasy Sports : 1,000,000+\n",
      "DraftKings - Daily Fantasy Sports : 1,000,000+\n",
      "Fantasy Football Manager (FPL) : 1,000,000+\n",
      "Fantasy Football : 1,000,000+\n",
      "ESPN : 10,000,000+\n",
      "US Open Tennis Championships 2018 : 1,000,000+\n",
      "Bleacher Report: sports news, scores, & highlights : 5,000,000+\n",
      "Live Tennis Rankings / LTR : 10,000+\n",
      "Tennis Livescore Widget : 50,000+\n",
      "Tennis Temple - Live Scores : 100,000+\n",
      "The Championships, Wimbledon 2018 : 1,000,000+\n",
      "theScore: Live Sports Scores, News, Stats & Videos : 10,000,000+\n",
      "Tennis 24 - tennis live scores : 100,000+\n",
      "Yahoo Sports - scores, stats, news, & highlights : 1,000,000+\n",
      "Tennis News and Scores : 10,000+\n",
      "MLB At Bat : 5,000,000+\n",
      "MSN Sports - Scores & Schedule : 500,000+\n",
      "FOX Sports: Live Streaming, Scores & News : 5,000,000+\n",
      "FotMob - Live Soccer Scores : 10,000,000+\n",
      "Sports Alerts - NFL edition : 100,000+\n",
      "NCAA March Madness Live : 5,000,000+\n",
      "NFL : 50,000,000+\n",
      "SportsManias Fantasy Team News : 500,000+\n",
      "Thuuz Sports : 500,000+\n",
      "NCAA Sports : 500,000+\n",
      "850 Sports News Digest : 10,000+\n",
      "FIFA - Tournaments, Soccer News & Live Scores : 10,000,000+\n",
      "365Scores - Live Scores : 10,000,000+\n",
      "Cricbuzz - Live Cricket Scores & News : 50,000,000+\n",
      "Fantasy Football & NFL News : 100,000+\n",
      "NBA : 10,000,000+\n",
      "BBC Sport : 1,000,000+\n",
      "NHL : 5,000,000+\n",
      "NASCAR MOBILE : 1,000,000+\n",
      "MLB Ballpark : 1,000,000+\n",
      "Univision Deportes: Liga MX, MLS, Fútbol Live : 5,000,000+\n",
      "Real Basketball : 10,000,000+\n",
      "Basketball Stars : 10,000,000+\n",
      "Be A Legend: Soccer : 1,000,000+\n",
      "3D Bowling : 100,000,000+\n",
      "theScore esports : 500,000+\n",
      "Wrestling Revolution 3D : 50,000,000+\n",
      "I'm Ping Pong King :) : 1,000,000+\n",
      "The J-Notes: Jazz News : 1,000+\n",
      "AE Basketball : 1,000,000+\n",
      "AE Archer : 500,000+\n",
      "AE Air Hockey : 50,000+\n",
      "Apps for SportsBєtting.ag - Bitcoin Welcome here! : 1,000+\n",
      "Ah! Bird : 100,000+\n",
      "Alabama Gameday Live : 1,000+\n",
      "AL.com: Alabama Football News : 10,000+\n",
      "League of Gamers - Be an E-Sports Legend! : 5,000,000+\n",
      "PES 2018 PRO EVOLUTION SOCCER : 10,000,000+\n",
      "Tennis Champion 3D - Online Sports Game : 5,000,000+\n",
      "SofaScore Live Score : 10,000,000+\n",
      "Ultimate Tennis : 10,000,000+\n",
      "Soccer Star 2018 Top Leagues · MLS Soccer Games : 10,000,000+\n",
      "Range Master: Sniper Academy : 10,000,000+\n",
      "FC Barcelona Official App : 5,000,000+\n",
      "3D Tennis : 50,000,000+\n",
      "WGT Golf Game by Topgolf : 10,000,000+\n",
      "AQ Coach : 5+\n",
      "AS - News and sports results. : 1,000,000+\n",
      "MARCA - Diario Líder Deportivo : 5,000,000+\n",
      "AS Guía de las Ligas 2017-2018 : 100,000+\n",
      "Rugby AU : 1,000+\n",
      "Top #5 Bσσkie in AU : 100+\n",
      "Predator Calls for Hunting AU : 10,000+\n",
      "Ax 3 Domaines : 1,000+\n",
      "PBA® Bowling Challenge : 10,000,000+\n",
      "BC Hockey : 1,000+\n",
      "BD CRICKET LIVE : 100,000+\n",
      "BANGLA TV 3G/4G : 100,000+\n",
      "Be the Manager 2018 - Football Strategy : 100,000+\n",
      "Top Eleven 2018 - Be a Soccer Manager : 50,000,000+\n",
      "Be the Manager 2016 (football) : 100,000+\n",
      "BG Score : 10,000+\n",
      "BG Torneos : 100+\n",
      "BG Cricket : 500+\n",
      "BH Bikes Premium : 1,000+\n",
      "BH Bikes GPS Locator : 10+\n",
      "Pool Billiards Classic - bi a : 1,000,000+\n",
      "BJJ Roadmap by Stephan Kesting : 10,000+\n",
      "B.M.Snowboard Free : 1,000,000+\n",
      "Basket Manager 2018 Free : 50,000+\n",
      "Basket Manager 2017 Free : 100,000+\n",
      "Basket Manager 2016 Free : 100,000+\n",
      "BM Tahmin: Ücretsiz İddaa Tahminleri : 500+\n",
      "Bet Master Pro Soccer Predictions : 10,000+\n",
      "[BN] Blitz : 100+\n",
      "BQ Llicència : 5,000+\n",
      "Bleacher Report Live : 50,000+\n",
      "BU Bison Nation : 100+\n",
      "BV Bombers : 100+\n",
      "BV Frankfurt inside : 50+\n",
      "BW Fuhlenbrock : 100+\n",
      "Fists For Fighting (Fx3) : 10,000,000+\n",
      "Cádiz CB Gades : 10+\n",
      "CD JUANITO : 500+\n",
      "CD Padel Mora : 50+\n",
      "Ultra CE calculator : 1,000+\n",
      "Cacique CF : 100+\n",
      "Cluster CF : 100+\n",
      "Imperium CF : 500+\n",
      "Azulones Getafe CF Fans : 100+\n",
      "CG Smart : 100+\n",
      "Betting Tips / Sports Tips by CG Tipster : 10,000+\n",
      "Cl-app! : 10,000+\n",
      "Sporting CP Keyboard Theme : 5,000+\n",
      "CricQuick : 50+\n",
      "CX_WiFiUFO : 100,000+\n",
      "TeeTime.cz : 10,000+\n",
      "Da Fit : 10,000+\n",
      "Soccer FC : 1,000,000+\n",
      "DF Coaching : 100+\n",
      "Guia Bike DF : 100+\n",
      "Bike Unchained : 5,000,000+\n",
      "Bike 3D Configurator : 1,000,000+\n",
      "FIFA Soccer : 100,000,000+\n",
      "DK Live - Sports Play by Play : 100,000+\n",
      "DK Pittsburgh Sports : 10,000+\n",
      "LineStar For DK : 50,000+\n",
      "DL Calculator : 10,000+\n",
      "DM Tuning : 5,000+\n",
      "Dude Perfect : 10,000+\n",
      "Monster Fishing 2018 : 1,000,000+\n",
      "Draft Simulator for FUT 18 : 5,000,000+\n",
      "Soccer Manager 2018 : 1,000,000+\n",
      "Online Soccer Manager (OSM) : 10,000,000+\n",
      "DT Simple Interval Timer : 1,000+\n",
      "PES CLUB MANAGER : 10,000,000+\n",
      "\"i DT\" Fútbol. Todos Somos Técnicos. : 500+\n",
      "MasterDT : 100+\n",
      "Top Soccer Manager : 10,000,000+\n",
      "Soccer Board Tactics : 100,000+\n",
      "Portes du Soleil : 50,000+\n",
      "WiFi Action Camera : 100,000+\n",
      "PORTABLE SOCCER DX Lite : 1,000,000+\n",
      "EA SPORTS UFC® : 50,000,000+\n",
      "NBA LIVE Mobile Basketball : 50,000,000+\n",
      "EA SPORTS™ FIFA 18 Companion : 10,000,000+\n",
      "FIFA 16 Soccer : 10,000,000+\n",
      "MLB Perfect Inning 2018 : 1,000,000+\n",
      "Real Football : 10,000,000+\n",
      "EB-TV : 1,000+\n",
      "Paraglider Dashboard : 50,000+\n",
      "EC-HRV test : 1,000+\n",
      "EC SPORTS : 10+\n",
      "EC Games Datecs : 10,000+\n",
      "E.F.JUVENTUD MADRID : 100+\n",
      "Fit the Fat 2 : 5,000,000+\n",
      "Esporte Interativo - Notícias e Resultados Ao Vivo : 500,000+\n",
      "Esporte Interativo Plus : 1,000,000+\n",
      "EJ Elite Prospects League : 1,000+\n",
      "Booking Revolution : 5,000,000+\n",
      "Real Madrid App : 5,000,000+\n",
      "CBS Sports App - Scores, News, Stats & Watch Live : 5,000,000+\n",
      "Yahoo Fantasy Sports - #1 Rated Fantasy App : 5,000,000+\n",
      "Yoong: Kick 'Em Up! : 100,000+\n",
      "Telemundo Deportes - En Vivo : 1,000,000+\n",
      "Univision Deportes: Liga MX, MLS, Fútbol En Vivo : 5,000,000+\n",
      "SK Bosnia Online EU Teplice : 5+\n",
      "EY Football : 10+\n",
      "Beach Volleyball 3D : 5,000,000+\n",
      "FA Player Essentials : 100+\n",
      "Hertfordshire FA : 500+\n",
      "Premier League - Official App : 5,000,000+\n",
      "ESPN Fantasy Sports : 5,000,000+\n",
      "Soccer 2018 : 10,000,000+\n",
      "Barca News - app for Barcelona FC Fans : 10,000+\n",
      "FC Barcelona Fantasy Manager: Real football mobile : 1,000,000+\n",
      "FC Barcelona Official Keyboard : 500,000+\n",
      "Barcelona Live 2018—Goals & News for Barca FC Fans : 10,000+\n",
      "Barcelona News - Sportfusion : 10,000+\n",
      "Barcelona Calendar : 10,000+\n",
      "Barca News - FC Barcelona, World Foot & Transfers : 10,000+\n",
      "FC Bayern Munich : 1,000,000+\n",
      "FC BARCELONA EVENTS : 100+\n",
      "Barcelona Live - Goal Score & News for Barca Fans : 10,000+\n",
      "Seattle Sounders FC : 10,000+\n",
      "1. FC Köln App : 100,000+\n",
      "FC Porto : 100,000+\n",
      "Fulham FC : 10,000+\n",
      "Burnley FC : 5,000+\n",
      "Atlanta United FC : 10,000+\n",
      "Sydney FC Official App : 5,000+\n",
      "Birmingham City FC : 10,000+\n",
      "My AEK - Official ΑΕΚ FC app : 50,000+\n",
      "Toronto FC : 10,000+\n",
      "Middlesbrough FC Official : 10,000+\n",
      "The 5th Stand : 100,000+\n",
      "FC Red Bull Salzburg App : 50,000+\n",
      "FC Zenit official Android app : 100,000+\n",
      "Fan App for Portsmouth FC : 1,000+\n",
      "Mobile FC : 100,000+\n",
      "Fan App for Reading FC : 500+\n",
      "Deportivo Toluca FC : 50,000+\n",
      "Underdog FC : 10,000+\n",
      "Las Vegas Lights FC : 500+\n",
      "APOEL FC : 10,000+\n",
      "Formula DRIFT : 10,000+\n",
      "Sports Lite : 1,000+\n",
      "LineStar for FanDuel : 50,000+\n",
      "Santa Fe App : 5,000+\n",
      "Leghe Fantagazzetta : 1,000,000+\n",
      "Field Goal Tournament : 100,000+\n",
      "Strike! Ten Pin Bowling : 5,000,000+\n",
      "FK Sūduva Marijampolė : 10+\n",
      "FK Željezničar : 10,000+\n",
      "FK Oleksandria : 10+\n",
      "FK Sileks : 1+\n",
      "Qarabağ FK : 100+\n",
      "FK Sloboda Tuzla : 10+\n",
      "FK Jelgava : 5+\n",
      "FK Vojvodina : 50+\n",
      "FK Liepaja : 100+\n",
      "FK Teplice : 50+\n",
      "FK Sarajevo : 100+\n",
      "FK Vardar : 10+\n",
      "FK Bregalnica Štip : 1+\n",
      "FK Mladost Lucani : 5+\n",
      "FK Radnicki Nis : 50+\n",
      "FK Dukla Prague : 10+\n",
      "FK Rad : 10+\n",
      "FK Jablonec : 50+\n",
      "FK Senica : 10+\n",
      "FK Vozdovac : 10+\n",
      "FK Mladá Boleslav : 10+\n",
      "FK Macva Sabac : 10+\n",
      "FK Crvena zvezda : 10,000+\n",
      "FK Jonava : 5+\n",
      "FK Čukarički : 10+\n",
      "Austria Wien FK - Fussball - Inoffizielle App : 100+\n",
      "FK Železiarne Podbrezová : 5+\n",
      "FK Viktoria Žižkov : 10+\n",
      "FK Zemun : 10+\n",
      "FK Atlantas : 5+\n",
      "FK Spartak Subotica : 10+\n",
      "FK Dedinje BGD : 100+\n",
      "FK Fotbal Třinec : 10+\n",
      "FK Utenis Utena : 5+\n",
      "Crazy Freekick : 5,000,000+\n",
      "FL Racing Manager 2018 Lite : 100,000+\n",
      "Florida State Gameday : 50,000+\n",
      "Hunting Safari 3D : 5,000,000+\n",
      "Mobile Kick : 10,000,000+\n",
      "FQ - Football Quiz : 1+\n"
     ]
    }
   ],
   "source": [
    "for app in free_google:\n",
    "    if app[1] == 'SPORTS':\n",
    "        print(app[0], ':', app[5])"
   ]
  },
  {
   "cell_type": "markdown",
   "metadata": {
    "collapsed": true
   },
   "source": [
    "It looks like there is room for an app that displays live data about all the different sports, while having fantasy access."
   ]
  },
  {
   "cell_type": "code",
   "execution_count": null,
   "metadata": {
    "collapsed": true
   },
   "outputs": [],
   "source": []
  }
 ],
 "metadata": {
  "kernelspec": {
   "display_name": "Python 3",
   "language": "python",
   "name": "python3"
  },
  "language_info": {
   "codemirror_mode": {
    "name": "ipython",
    "version": 3
   },
   "file_extension": ".py",
   "mimetype": "text/x-python",
   "name": "python",
   "nbconvert_exporter": "python",
   "pygments_lexer": "ipython3",
   "version": "3.4.3"
  }
 },
 "nbformat": 4,
 "nbformat_minor": 2
}
